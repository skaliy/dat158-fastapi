{
 "cells": [
  {
   "cell_type": "code",
   "execution_count": null,
   "id": "48774e34-32aa-4ba0-b2e1-d5a7b6dc7e39",
   "metadata": {},
   "outputs": [],
   "source": [
    "#pip install hypercorn\n",
    "#pip install fastapi[all]"
   ]
  },
  {
   "cell_type": "code",
   "execution_count": null,
   "id": "e493b3d5-74f8-4788-8997-377111f8e63e",
   "metadata": {
    "tags": []
   },
   "outputs": [],
   "source": [
    "import requests \n",
    "import json\n",
    "import pandas as pd\n",
    "from pathlib import Path\n",
    "import plotly.express as px\n",
    "import asyncio"
   ]
  },
  {
   "cell_type": "code",
   "execution_count": null,
   "id": "36800f2e-fdec-4645-9bb0-a8199e2ca9b5",
   "metadata": {},
   "outputs": [],
   "source": [
    "def get_historical_data():\n",
    "    response = requests.get('http://127.0.0.1:8000/historical')\n",
    "    json_string = response.json()\n",
    "    a_json = json.loads(response.json()) #convert a json string to a list with dicts\n",
    "\n",
    "    return pd.DataFrame.from_dict(a_json)"
   ]
  },
  {
   "cell_type": "code",
   "execution_count": null,
   "id": "14d4a108-d4dc-42dc-b2d7-9e6c0e1d0a2e",
   "metadata": {},
   "outputs": [],
   "source": [
    "historical_data = get_historical_data()"
   ]
  },
  {
   "cell_type": "code",
   "execution_count": null,
   "id": "33ea2bc7-3de3-468f-a703-c3f0bef4de44",
   "metadata": {},
   "outputs": [],
   "source": [
    "def get_tomorrows_data(): \n",
    "    response = requests.get('http://127.0.0.1:8000/tomorrow')\n",
    "    json_string = response.json()\n",
    "    a_json = json.loads(response.json()) #convert a json string to a list with dicts\n",
    "    return pd.DataFrame.from_dict(a_json)"
   ]
  },
  {
   "cell_type": "code",
   "execution_count": null,
   "id": "4cdba9fa-4eb1-4ace-8e93-a8a1e4423474",
   "metadata": {},
   "outputs": [],
   "source": [
    "predicted_data = get_tomorrows_data()"
   ]
  },
  {
   "cell_type": "markdown",
   "id": "5f026119-0715-45bf-bf9a-0ea1d312188c",
   "metadata": {},
   "source": [
    "# Dashboard"
   ]
  },
  {
   "cell_type": "code",
   "execution_count": null,
   "id": "180a15a3-73c2-4575-ad7c-b7ee96f837f3",
   "metadata": {},
   "outputs": [],
   "source": [
    "fig_1 = px.line(historical_data, x=\"dteday\", y=[\"cnt\"], template = 'plotly_dark')\n",
    "fig_1.update_layout(\n",
    "    title={\n",
    "        'text': \"Historical data\",\n",
    "        'y':0.9,\n",
    "        'x':0.5,\n",
    "        'xanchor': 'center',\n",
    "        'yanchor': 'top'})\n",
    "fig_1.show(autosize=False)\n",
    "\n",
    "fig_2 = px.bar(predicted_data, x=\"hr\", y=[\"Label\"], template = 'plotly_dark')\n",
    "fig_2.update_layout(\n",
    "    title={\n",
    "        'text': \"Tomorrow's prediction\",\n",
    "        'y':0.9,\n",
    "        'x':0.5,\n",
    "        'xanchor': 'center',\n",
    "        'yanchor': 'top'})\n",
    "fig_2.show(autosize=False)"
   ]
  },
  {
   "cell_type": "code",
   "execution_count": null,
   "id": "8c1ce896-e50c-48ea-aca2-06a77565a773",
   "metadata": {},
   "outputs": [],
   "source": []
  }
 ],
 "metadata": {
  "kernelspec": {
   "display_name": "Python (voila)",
   "language": "python",
   "name": "myenv"
  },
  "language_info": {
   "codemirror_mode": {
    "name": "ipython",
    "version": 3
   },
   "file_extension": ".py",
   "mimetype": "text/x-python",
   "name": "python",
   "nbconvert_exporter": "python",
   "pygments_lexer": "ipython3",
   "version": "3.9.7"
  }
 },
 "nbformat": 4,
 "nbformat_minor": 5
}
